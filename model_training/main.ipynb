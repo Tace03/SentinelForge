{
 "cells": [
  {
   "cell_type": "markdown",
   "metadata": {},
   "source": [
    "### SentinelForge\n",
    "\n",
    "#### This is the start of training file for SentinelForge"
   ]
  },
  {
   "cell_type": "markdown",
   "metadata": {},
   "source": [
    "1. Import necessary library"
   ]
  },
  {
   "cell_type": "code",
   "execution_count": 14,
   "metadata": {},
   "outputs": [],
   "source": [
    "import re\n",
    "import os\n",
    "from pycparser import CParser\n"
   ]
  },
  {
   "cell_type": "markdown",
   "metadata": {},
   "source": [
    "2. Data pipeline"
   ]
  },
  {
   "cell_type": "code",
   "execution_count": 15,
   "metadata": {},
   "outputs": [
    {
     "name": "stdout",
     "output_type": "stream",
     "text": [
      "['main.c', 'main.cpp']\n"
     ]
    }
   ],
   "source": [
    "current_dir = os.getcwd()\n",
    "\n",
    "data_path = os.path.join(current_dir, '..\\data')\n",
    "\n",
    "data_path_filtered = [file for file in os.listdir(data_path) if file.endswith((\".c\", \".cpp\"))]\n",
    "print(data_path_filtered)"
   ]
  },
  {
   "cell_type": "markdown",
   "metadata": {},
   "source": [
    "Test opening one file to check on its content"
   ]
  },
  {
   "cell_type": "code",
   "execution_count": 19,
   "metadata": {},
   "outputs": [
    {
     "name": "stdout",
     "output_type": "stream",
     "text": [
      "FileAST: \n",
      "  FuncDef: \n",
      "    Decl: main, [], [], [], []\n",
      "      FuncDecl: \n",
      "        TypeDecl: main, [], None\n",
      "          IdentifierType: ['int']\n",
      "    Compound: \n",
      "      Decl: string, [], [], [], []\n",
      "        PtrDecl: []\n",
      "          TypeDecl: string, [], None\n",
      "            IdentifierType: ['char']\n",
      "      Assignment: =\n",
      "        ID: string\n",
      "        Cast: \n",
      "          Typename: None, [], None\n",
      "            PtrDecl: []\n",
      "              TypeDecl: None, [], None\n",
      "                IdentifierType: ['char']\n",
      "          FuncCall: \n",
      "            ID: malloc\n",
      "            ExprList: \n",
      "              BinaryOp: *\n",
      "                UnaryOp: sizeof\n",
      "                  Typename: None, [], None\n",
      "                    TypeDecl: None, [], None\n",
      "                      IdentifierType: ['char']\n",
      "                Constant: int, 1000\n"
     ]
    }
   ],
   "source": [
    "file_path = os.path.join(data_path,data_path_filtered[0])\n",
    "\n",
    "# Read the file content into a string\n",
    "with open(file_path, \"r\", encoding=\"utf-8\") as f:\n",
    "    code = f.read()\n",
    "\n",
    "# Remove preprocessor directives (lines starting with #)\n",
    "filtered_code = \"\\n\".join(line for line in code.splitlines() if not line.strip().startswith(\"#\"))\n",
    "\n",
    "# Parse the code using pycparser\n",
    "parser = CParser()\n",
    "ast = parser.parse(filtered_code)\n",
    "\n",
    "# Display the AST\n",
    "ast.show()"
   ]
  }
 ],
 "metadata": {
  "kernelspec": {
   "display_name": "Python 3",
   "language": "python",
   "name": "python3"
  },
  "language_info": {
   "codemirror_mode": {
    "name": "ipython",
    "version": 3
   },
   "file_extension": ".py",
   "mimetype": "text/x-python",
   "name": "python",
   "nbconvert_exporter": "python",
   "pygments_lexer": "ipython3",
   "version": "3.10.0"
  }
 },
 "nbformat": 4,
 "nbformat_minor": 2
}
